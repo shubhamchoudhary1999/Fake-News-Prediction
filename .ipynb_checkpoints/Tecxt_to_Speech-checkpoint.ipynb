{
 "cells": [
  {
   "cell_type": "code",
   "execution_count": 1,
   "id": "76afbea4",
   "metadata": {},
   "outputs": [],
   "source": [
    "import nltk #nltk stands for natural language toolkit"
   ]
  },
  {
   "cell_type": "code",
   "execution_count": 2,
   "id": "86f676a7",
   "metadata": {},
   "outputs": [],
   "source": [
    "import nltk.corpus #corpus is a collecion of different items or a huge collections of item there is having a lot of inbuilt text"
   ]
  },
  {
   "cell_type": "code",
   "execution_count": 3,
   "id": "d7c79b81",
   "metadata": {},
   "outputs": [],
   "source": [
    "# Tokenization\n",
    "from nltk.tokenize import word_tokenize #tokenization is a process of splitting,text into a list of token"
   ]
  },
  {
   "cell_type": "code",
   "execution_count": 4,
   "id": "7dc7773c",
   "metadata": {},
   "outputs": [],
   "source": [
    "chess = \"samay raina is the best chess streamer in the world\""
   ]
  },
  {
   "cell_type": "code",
   "execution_count": 5,
   "id": "59a0a3db",
   "metadata": {},
   "outputs": [
    {
     "data": {
      "text/plain": [
       "['samay',\n",
       " 'raina',\n",
       " 'is',\n",
       " 'the',\n",
       " 'best',\n",
       " 'chess',\n",
       " 'streamer',\n",
       " 'in',\n",
       " 'the',\n",
       " 'world']"
      ]
     },
     "execution_count": 5,
     "metadata": {},
     "output_type": "execute_result"
    }
   ],
   "source": [
    "word_tokenize(chess) #  tokenization basicaly means it's conbert sentences into a words"
   ]
  },
  {
   "cell_type": "code",
   "execution_count": 6,
   "id": "4da4d9bc",
   "metadata": {},
   "outputs": [],
   "source": [
    "from nltk.tokenize import sent_tokenize #sentence tokenization is splitting the paragraph in the sentences"
   ]
  },
  {
   "cell_type": "code",
   "execution_count": 7,
   "id": "00510643",
   "metadata": {},
   "outputs": [],
   "source": [
    "chess2 = \"samay raina is the best chess streamer in the world. sagar saha is the best chess coach in the world\""
   ]
  },
  {
   "cell_type": "code",
   "execution_count": 8,
   "id": "1488dd4c",
   "metadata": {},
   "outputs": [
    {
     "data": {
      "text/plain": [
       "['samay raina is the best chess streamer in the world.',\n",
       " 'sagar saha is the best chess coach in the world']"
      ]
     },
     "execution_count": 8,
     "metadata": {},
     "output_type": "execute_result"
    }
   ],
   "source": [
    "sent_tokenize(chess2) # soo you see below the paragreph splitted in the sentences and the token value always stored in a list"
   ]
  },
  {
   "cell_type": "code",
   "execution_count": 9,
   "id": "7b68bc6c",
   "metadata": {},
   "outputs": [
    {
     "data": {
      "text/plain": [
       "10"
      ]
     },
     "execution_count": 9,
     "metadata": {},
     "output_type": "execute_result"
    }
   ],
   "source": [
    "len(word_tokenize(chess)) #checking the numbers of tokens"
   ]
  },
  {
   "cell_type": "code",
   "execution_count": 10,
   "id": "6a49a6b4",
   "metadata": {},
   "outputs": [],
   "source": [
    "# bigrams and n - grams"
   ]
  },
  {
   "cell_type": "code",
   "execution_count": 11,
   "id": "92e4e2bc",
   "metadata": {},
   "outputs": [],
   "source": [
    "astronaut = \"Can anybody hear me or am I taking to my self? My mind is running empty in the search of some one else\""
   ]
  },
  {
   "cell_type": "code",
   "execution_count": 12,
   "id": "5d4ca6dc",
   "metadata": {},
   "outputs": [],
   "source": [
    "astronaut_token =(word_tokenize(astronaut))"
   ]
  },
  {
   "cell_type": "code",
   "execution_count": 13,
   "id": "472fdb80",
   "metadata": {},
   "outputs": [
    {
     "data": {
      "text/plain": [
       "['Can',\n",
       " 'anybody',\n",
       " 'hear',\n",
       " 'me',\n",
       " 'or',\n",
       " 'am',\n",
       " 'I',\n",
       " 'taking',\n",
       " 'to',\n",
       " 'my',\n",
       " 'self',\n",
       " '?',\n",
       " 'My',\n",
       " 'mind',\n",
       " 'is',\n",
       " 'running',\n",
       " 'empty',\n",
       " 'in',\n",
       " 'the',\n",
       " 'search',\n",
       " 'of',\n",
       " 'some',\n",
       " 'one',\n",
       " 'else']"
      ]
     },
     "execution_count": 13,
     "metadata": {},
     "output_type": "execute_result"
    }
   ],
   "source": [
    "astronaut_token"
   ]
  },
  {
   "cell_type": "code",
   "execution_count": 14,
   "id": "6be7009b",
   "metadata": {},
   "outputs": [
    {
     "data": {
      "text/plain": [
       "[('Can', 'anybody'),\n",
       " ('anybody', 'hear'),\n",
       " ('hear', 'me'),\n",
       " ('me', 'or'),\n",
       " ('or', 'am'),\n",
       " ('am', 'I'),\n",
       " ('I', 'taking'),\n",
       " ('taking', 'to'),\n",
       " ('to', 'my'),\n",
       " ('my', 'self'),\n",
       " ('self', '?'),\n",
       " ('?', 'My'),\n",
       " ('My', 'mind'),\n",
       " ('mind', 'is'),\n",
       " ('is', 'running'),\n",
       " ('running', 'empty'),\n",
       " ('empty', 'in'),\n",
       " ('in', 'the'),\n",
       " ('the', 'search'),\n",
       " ('search', 'of'),\n",
       " ('of', 'some'),\n",
       " ('some', 'one'),\n",
       " ('one', 'else')]"
      ]
     },
     "execution_count": 14,
     "metadata": {},
     "output_type": "execute_result"
    }
   ],
   "source": [
    "list(nltk.bigrams(astronaut_token)) # it give you suggestion of next word if you see in andorid mobile keywors\n",
    "# it can be defining a negihbouring sequence of item "
   ]
  },
  {
   "cell_type": "code",
   "execution_count": 15,
   "id": "71abb954",
   "metadata": {},
   "outputs": [
    {
     "data": {
      "text/plain": [
       "[('Can', 'anybody', 'hear'),\n",
       " ('anybody', 'hear', 'me'),\n",
       " ('hear', 'me', 'or'),\n",
       " ('me', 'or', 'am'),\n",
       " ('or', 'am', 'I'),\n",
       " ('am', 'I', 'taking'),\n",
       " ('I', 'taking', 'to'),\n",
       " ('taking', 'to', 'my'),\n",
       " ('to', 'my', 'self'),\n",
       " ('my', 'self', '?'),\n",
       " ('self', '?', 'My'),\n",
       " ('?', 'My', 'mind'),\n",
       " ('My', 'mind', 'is'),\n",
       " ('mind', 'is', 'running'),\n",
       " ('is', 'running', 'empty'),\n",
       " ('running', 'empty', 'in'),\n",
       " ('empty', 'in', 'the'),\n",
       " ('in', 'the', 'search'),\n",
       " ('the', 'search', 'of'),\n",
       " ('search', 'of', 'some'),\n",
       " ('of', 'some', 'one'),\n",
       " ('some', 'one', 'else')]"
      ]
     },
     "execution_count": 15,
     "metadata": {},
     "output_type": "execute_result"
    }
   ],
   "source": [
    "list(nltk.trigrams(astronaut_token)) "
   ]
  },
  {
   "cell_type": "code",
   "execution_count": 16,
   "id": "dc16eb45",
   "metadata": {},
   "outputs": [
    {
     "data": {
      "text/plain": [
       "[('Can', 'anybody', 'hear', 'me', 'or'),\n",
       " ('anybody', 'hear', 'me', 'or', 'am'),\n",
       " ('hear', 'me', 'or', 'am', 'I'),\n",
       " ('me', 'or', 'am', 'I', 'taking'),\n",
       " ('or', 'am', 'I', 'taking', 'to'),\n",
       " ('am', 'I', 'taking', 'to', 'my'),\n",
       " ('I', 'taking', 'to', 'my', 'self'),\n",
       " ('taking', 'to', 'my', 'self', '?'),\n",
       " ('to', 'my', 'self', '?', 'My'),\n",
       " ('my', 'self', '?', 'My', 'mind'),\n",
       " ('self', '?', 'My', 'mind', 'is'),\n",
       " ('?', 'My', 'mind', 'is', 'running'),\n",
       " ('My', 'mind', 'is', 'running', 'empty'),\n",
       " ('mind', 'is', 'running', 'empty', 'in'),\n",
       " ('is', 'running', 'empty', 'in', 'the'),\n",
       " ('running', 'empty', 'in', 'the', 'search'),\n",
       " ('empty', 'in', 'the', 'search', 'of'),\n",
       " ('in', 'the', 'search', 'of', 'some'),\n",
       " ('the', 'search', 'of', 'some', 'one'),\n",
       " ('search', 'of', 'some', 'one', 'else')]"
      ]
     },
     "execution_count": 16,
     "metadata": {},
     "output_type": "execute_result"
    }
   ],
   "source": [
    "list(nltk.ngrams(astronaut_token,5))"
   ]
  },
  {
   "cell_type": "code",
   "execution_count": 17,
   "id": "136e6e8b",
   "metadata": {},
   "outputs": [],
   "source": [
    "# Stemming it is give you a root word of word for example playing - play , going - go"
   ]
  },
  {
   "cell_type": "code",
   "execution_count": 18,
   "id": "e5994030",
   "metadata": {},
   "outputs": [],
   "source": [
    "from nltk.stem import PorterStemmer"
   ]
  },
  {
   "cell_type": "code",
   "execution_count": 19,
   "id": "b7285122",
   "metadata": {},
   "outputs": [],
   "source": [
    "my_stem = PorterStemmer()"
   ]
  },
  {
   "cell_type": "code",
   "execution_count": 20,
   "id": "ebff61d5",
   "metadata": {},
   "outputs": [
    {
     "data": {
      "text/plain": [
       "'eat'"
      ]
     },
     "execution_count": 20,
     "metadata": {},
     "output_type": "execute_result"
    }
   ],
   "source": [
    "my_stem.stem('eating')"
   ]
  },
  {
   "cell_type": "code",
   "execution_count": 21,
   "id": "7fbcb276",
   "metadata": {},
   "outputs": [
    {
     "data": {
      "text/plain": [
       "'play'"
      ]
     },
     "execution_count": 21,
     "metadata": {},
     "output_type": "execute_result"
    }
   ],
   "source": [
    "my_stem.stem('playing') # if we not do this then machine is not undersatnd what is the smallest unit of word when to give you as input"
   ]
  },
  {
   "cell_type": "code",
   "execution_count": 22,
   "id": "98dc652d",
   "metadata": {},
   "outputs": [
    {
     "data": {
      "text/plain": [
       "'histor'"
      ]
     },
     "execution_count": 22,
     "metadata": {},
     "output_type": "execute_result"
    }
   ],
   "source": [
    "my_stem.stem('historical')"
   ]
  },
  {
   "cell_type": "code",
   "execution_count": 23,
   "id": "9164017d",
   "metadata": {},
   "outputs": [],
   "source": [
    "# pos - tagging"
   ]
  },
  {
   "cell_type": "code",
   "execution_count": 24,
   "id": "f39a75fc",
   "metadata": {},
   "outputs": [],
   "source": [
    "tom = \"Tom Hanks is the best actor in the world\""
   ]
  },
  {
   "cell_type": "code",
   "execution_count": 25,
   "id": "652612de",
   "metadata": {},
   "outputs": [],
   "source": [
    "tom_token =(word_tokenize(tom))"
   ]
  },
  {
   "cell_type": "code",
   "execution_count": 26,
   "id": "c820dc95",
   "metadata": {},
   "outputs": [
    {
     "data": {
      "text/plain": [
       "['Tom', 'Hanks', 'is', 'the', 'best', 'actor', 'in', 'the', 'world']"
      ]
     },
     "execution_count": 26,
     "metadata": {},
     "output_type": "execute_result"
    }
   ],
   "source": [
    "tom_token"
   ]
  },
  {
   "cell_type": "code",
   "execution_count": 27,
   "id": "9e5e212e",
   "metadata": {},
   "outputs": [
    {
     "name": "stderr",
     "output_type": "stream",
     "text": [
      "[nltk_data] Downloading package averaged_perceptron_tagger to\n",
      "[nltk_data]     C:\\Users\\SHUBHAM\n",
      "[nltk_data]     CHOUDHARY\\AppData\\Roaming\\nltk_data...\n",
      "[nltk_data]   Package averaged_perceptron_tagger is already up-to-\n",
      "[nltk_data]       date!\n"
     ]
    },
    {
     "data": {
      "text/plain": [
       "[('Tom', 'NNP'),\n",
       " ('Hanks', 'NNP'),\n",
       " ('is', 'VBZ'),\n",
       " ('the', 'DT'),\n",
       " ('best', 'JJS'),\n",
       " ('actor', 'NN'),\n",
       " ('in', 'IN'),\n",
       " ('the', 'DT'),\n",
       " ('world', 'NN')]"
      ]
     },
     "execution_count": 27,
     "metadata": {},
     "output_type": "execute_result"
    }
   ],
   "source": [
    "import nltk\n",
    "nltk.download('averaged_perceptron_tagger')\n",
    "nltk.pos_tag(tom_token)"
   ]
  },
  {
   "cell_type": "code",
   "execution_count": 28,
   "id": "a1f595eb",
   "metadata": {},
   "outputs": [],
   "source": [
    "# Name entity recognition"
   ]
  },
  {
   "cell_type": "code",
   "execution_count": 29,
   "id": "794b8159",
   "metadata": {},
   "outputs": [],
   "source": [
    "from nltk import ne_chunk"
   ]
  },
  {
   "cell_type": "code",
   "execution_count": 30,
   "id": "7258acb7",
   "metadata": {},
   "outputs": [],
   "source": [
    "president = \"Brak obama was the 44th president of america\""
   ]
  },
  {
   "cell_type": "code",
   "execution_count": 31,
   "id": "7446a8ba",
   "metadata": {},
   "outputs": [],
   "source": [
    "president_token = (word_tokenize(president))"
   ]
  },
  {
   "cell_type": "code",
   "execution_count": 32,
   "id": "87b108c7",
   "metadata": {},
   "outputs": [
    {
     "data": {
      "text/plain": [
       "['Brak', 'obama', 'was', 'the', '44th', 'president', 'of', 'america']"
      ]
     },
     "execution_count": 32,
     "metadata": {},
     "output_type": "execute_result"
    }
   ],
   "source": [
    "president_token"
   ]
  },
  {
   "cell_type": "code",
   "execution_count": 33,
   "id": "b2280b86",
   "metadata": {},
   "outputs": [],
   "source": [
    "president_pos = nltk.pos_tag(president_token)"
   ]
  },
  {
   "cell_type": "code",
   "execution_count": 34,
   "id": "bb71c0b4",
   "metadata": {},
   "outputs": [
    {
     "data": {
      "text/plain": [
       "[('Brak', 'NNP'),\n",
       " ('obama', 'NN'),\n",
       " ('was', 'VBD'),\n",
       " ('the', 'DT'),\n",
       " ('44th', 'JJ'),\n",
       " ('president', 'NN'),\n",
       " ('of', 'IN'),\n",
       " ('america', 'NN')]"
      ]
     },
     "execution_count": 34,
     "metadata": {},
     "output_type": "execute_result"
    }
   ],
   "source": [
    "president_pos"
   ]
  },
  {
   "cell_type": "code",
   "execution_count": 35,
   "id": "b27b2f5c",
   "metadata": {},
   "outputs": [],
   "source": [
    "# now we have some basic knowledge of text pre - processing its time to jump on speech recoginzation"
   ]
  },
  {
   "cell_type": "markdown",
   "id": "64bba846",
   "metadata": {},
   "source": [
    "# Text to Speech"
   ]
  },
  {
   "cell_type": "code",
   "execution_count": 36,
   "id": "96882a96",
   "metadata": {},
   "outputs": [
    {
     "name": "stdout",
     "output_type": "stream",
     "text": [
      "Requirement already satisfied: gTTS in c:\\users\\shubham choudhary\\anaconda3\\lib\\site-packages (2.2.4)\n",
      "Requirement already satisfied: six in c:\\users\\shubham choudhary\\anaconda3\\lib\\site-packages (from gTTS) (1.16.0)\n",
      "Requirement already satisfied: click in c:\\users\\shubham choudhary\\anaconda3\\lib\\site-packages (from gTTS) (8.0.3)\n",
      "Requirement already satisfied: requests in c:\\users\\shubham choudhary\\anaconda3\\lib\\site-packages (from gTTS) (2.26.0)\n",
      "Requirement already satisfied: colorama in c:\\users\\shubham choudhary\\anaconda3\\lib\\site-packages (from click->gTTS) (0.4.4)\n",
      "Requirement already satisfied: charset-normalizer~=2.0.0 in c:\\users\\shubham choudhary\\anaconda3\\lib\\site-packages (from requests->gTTS) (2.0.4)\n",
      "Requirement already satisfied: certifi>=2017.4.17 in c:\\users\\shubham choudhary\\anaconda3\\lib\\site-packages (from requests->gTTS) (2021.10.8)\n",
      "Requirement already satisfied: idna<4,>=2.5 in c:\\users\\shubham choudhary\\anaconda3\\lib\\site-packages (from requests->gTTS) (3.2)\n",
      "Requirement already satisfied: urllib3<1.27,>=1.21.1 in c:\\users\\shubham choudhary\\anaconda3\\lib\\site-packages (from requests->gTTS) (1.26.7)\n"
     ]
    }
   ],
   "source": [
    "!pip install gTTS"
   ]
  },
  {
   "cell_type": "code",
   "execution_count": 37,
   "id": "d28af2ae",
   "metadata": {},
   "outputs": [],
   "source": [
    "from gtts import gTTS"
   ]
  },
  {
   "cell_type": "code",
   "execution_count": 38,
   "id": "3fb309c4",
   "metadata": {},
   "outputs": [],
   "source": [
    "from IPython.display import Audio"
   ]
  },
  {
   "cell_type": "code",
   "execution_count": 39,
   "id": "18ffe911",
   "metadata": {},
   "outputs": [],
   "source": [
    "tts = gTTS('Magnus Carison is the number one chess player in the world')\n",
    "tts.save('1.way')"
   ]
  },
  {
   "cell_type": "code",
   "execution_count": 40,
   "id": "f936e18c",
   "metadata": {},
   "outputs": [],
   "source": [
    "sound_file = '1.way'"
   ]
  },
  {
   "cell_type": "code",
   "execution_count": 41,
   "id": "ed57bd23",
   "metadata": {},
   "outputs": [
    {
     "data": {
      "text/html": [
       "\n",
       "                <audio  controls=\"controls\" autoplay=\"autoplay\">\n",
       "                    <source src=\"data:None;base64,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\" type=\"None\" />\n",
       "                    Your browser does not support the audio element.\n",
       "                </audio>\n",
       "              "
      ],
      "text/plain": [
       "<IPython.lib.display.Audio object>"
      ]
     },
     "execution_count": 41,
     "metadata": {},
     "output_type": "execute_result"
    }
   ],
   "source": [
    "Audio(sound_file,autoplay=True)"
   ]
  },
  {
   "cell_type": "code",
   "execution_count": null,
   "id": "ab556074",
   "metadata": {},
   "outputs": [],
   "source": []
  }
 ],
 "metadata": {
  "kernelspec": {
   "display_name": "Python 3 (ipykernel)",
   "language": "python",
   "name": "python3"
  },
  "language_info": {
   "codemirror_mode": {
    "name": "ipython",
    "version": 3
   },
   "file_extension": ".py",
   "mimetype": "text/x-python",
   "name": "python",
   "nbconvert_exporter": "python",
   "pygments_lexer": "ipython3",
   "version": "3.9.7"
  }
 },
 "nbformat": 4,
 "nbformat_minor": 5
}
