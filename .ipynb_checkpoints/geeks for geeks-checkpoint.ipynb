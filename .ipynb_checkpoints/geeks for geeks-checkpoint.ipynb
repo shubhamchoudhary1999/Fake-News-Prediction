{
 "cells": [
  {
   "cell_type": "markdown",
   "id": "d3431ba4",
   "metadata": {},
   "source": [
    "# Python program to interchange first and last elements in a list"
   ]
  },
  {
   "cell_type": "code",
   "execution_count": 2,
   "id": "990218f9",
   "metadata": {},
   "outputs": [
    {
     "name": "stdout",
     "output_type": "stream",
     "text": [
      "[22, 5, 88, 9, 6, 22, 66, 55, 1]\n"
     ]
    }
   ],
   "source": [
    "# list interchange using swaping\n",
    "\n",
    "def swaplist(newlist):\n",
    "    size = len(newlist)\n",
    "    \n",
    "    #swapping\n",
    "    \n",
    "    temp = newlist[0]\n",
    "    newlist[0] = newlist[size - 1 ]\n",
    "    newlist[size - 1 ] = temp\n",
    "    \n",
    "    return newlist\n",
    "\n",
    "\n",
    "newlist = [1,5,88,9,6,22,66,55,22]\n",
    "\n",
    "print(swaplist(newlist))"
   ]
  },
  {
   "cell_type": "code",
   "execution_count": 3,
   "id": "d440f435",
   "metadata": {},
   "outputs": [],
   "source": [
    "revlist = [55, 56, 55, 8]"
   ]
  },
  {
   "cell_type": "code",
   "execution_count": 5,
   "id": "3c61b998",
   "metadata": {},
   "outputs": [
    {
     "data": {
      "text/plain": [
       "[8, 55, 56, 55]"
      ]
     },
     "execution_count": 5,
     "metadata": {},
     "output_type": "execute_result"
    }
   ],
   "source": [
    "revlist[::-1]"
   ]
  },
  {
   "cell_type": "markdown",
   "id": "d5bf326b",
   "metadata": {},
   "source": [
    "# Approach #2: The last element of the list can be referred as list[-1]. Therefore, we can simply swap list[0] with list[-1]."
   ]
  },
  {
   "cell_type": "code",
   "execution_count": 10,
   "id": "bdeca51e",
   "metadata": {},
   "outputs": [
    {
     "name": "stdout",
     "output_type": "stream",
     "text": [
      "[9, 65, 32, 89, 12, 58, 66, 22, 55]\n"
     ]
    }
   ],
   "source": [
    "def swaplist(newlist):\n",
    "    \n",
    "    newlist[0], newlist[-1] = newlist[-1], newlist[0]\n",
    "    \n",
    "    return newlist\n",
    "\n",
    "newlist = [55,65,32,89,12,58,66,22,9]\n",
    "\n",
    "print(swaplist(newlist))"
   ]
  },
  {
   "cell_type": "markdown",
   "id": "0907ae75",
   "metadata": {},
   "source": [
    "# Approach #3: Swap the first and last element is using tuple variable. Store the first and last element as a pair in a tuple variable, say get, and unpack those elements with first and last element in that list. Now, the First and last values in that list are swapped. "
   ]
  },
  {
   "cell_type": "code",
   "execution_count": 11,
   "id": "1ec078ba",
   "metadata": {},
   "outputs": [
    {
     "name": "stdout",
     "output_type": "stream",
     "text": [
      "[95, 96, 85, 36, 76, 44]\n"
     ]
    }
   ],
   "source": [
    "def swaplist(list):\n",
    "    \n",
    "    get = list[0], list[-1]\n",
    "    \n",
    "    list[-1], list[0] = get\n",
    "    \n",
    "    return list\n",
    "\n",
    "newlist = [44, 96, 85, 36, 76, 95]\n",
    "\n",
    "print(swaplist(newlist))"
   ]
  },
  {
   "cell_type": "markdown",
   "id": "4c3cd237",
   "metadata": {},
   "source": [
    "# Python – Find the distance between first and last even elements in a List"
   ]
  },
  {
   "cell_type": "code",
   "execution_count": 17,
   "id": "64c4a865",
   "metadata": {},
   "outputs": [
    {
     "name": "stdout",
     "output_type": "stream",
     "text": [
      "the original list is [1, 3, 8, 9, 5, 2, 8, 9, 66, 88, 5, 2, 3, 6, 5, 7, 8, 9, 4, 5, 6, 2, 1]\n",
      "hh19\n"
     ]
    }
   ],
   "source": []
  },
  {
   "cell_type": "code",
   "execution_count": 20,
   "id": "218232d0",
   "metadata": {},
   "outputs": [
    {
     "name": "stdout",
     "output_type": "stream",
     "text": [
      "original list [3, 7, 1, 8, 6, 4, 2, 3, 6, 9, 8, 2, 5, 4, 7, 8, 9, 6, 5, 2, 3, 7, 1, 3, 5, 9]\n"
     ]
    },
    {
     "data": {
      "text/plain": [
       "16"
      ]
     },
     "execution_count": 20,
     "metadata": {},
     "output_type": "execute_result"
    }
   ],
   "source": [
    "test_list = [3,7,1,8,6,4,2,3,6,9,8,2,5,4,7,8,9,6,5,2,3,7,1,3,5,9]\n",
    "\n",
    "print(\"original list\",test_list)\n",
    "\n",
    "\n",
    "indices_list = [idx for idx in range (len(test_list)) if test_list[idx] % 2 == 0]\n",
    "\n",
    "res = indices_list[-1] - indices_list[0]\n",
    "\n",
    "res"
   ]
  },
  {
   "cell_type": "markdown",
   "id": "b93ff70c",
   "metadata": {},
   "source": [
    "# Python – First Even Number in List"
   ]
  },
  {
   "cell_type": "markdown",
   "id": "bb6a21ff",
   "metadata": {},
   "source": [
    "# Method #1 : Using loop\n",
    "This is brute force way in which this task can be performed. In this, we loop through the list and when 1st time even number occurs, we store and break the loop."
   ]
  },
  {
   "cell_type": "code",
   "execution_count": 33,
   "id": "4b5c5a54",
   "metadata": {},
   "outputs": [
    {
     "data": {
      "text/plain": [
       "8"
      ]
     },
     "execution_count": 33,
     "metadata": {},
     "output_type": "execute_result"
    }
   ],
   "source": [
    "list1 = [3,77,35,39,37,31,53,22,69,58,8,23,65,25]\n",
    "\n",
    "res = []\n",
    "\n",
    "for ele in list1 :\n",
    "    if not ele % 2 :\n",
    "         res = ele\n",
    "            \n",
    "res"
   ]
  },
  {
   "cell_type": "markdown",
   "id": "e110feaa",
   "metadata": {},
   "source": [
    "# Method #2 : Using binary search (Sorted list)\n",
    "The binary search can also be employed on list when we have sorted list. In this, we keep looking for smaller even term when we find one and move to rear end in case we don’t find one."
   ]
  },
  {
   "cell_type": "code",
   "execution_count": 34,
   "id": "f5aedf57",
   "metadata": {},
   "outputs": [],
   "source": [
    "test_list = [3,7,8,9,10,15]\n",
    "\n",
    "res = len(test_list)\n",
    "\n",
    "low = 0\n",
    "\n",
    "high = len(test_list) - 1\n",
    "\n",
    "while low <= high:\n",
    "    mid=(low + high )//2\n",
    "    if test_list[mid] % 2:\n",
    "        low = mid + 1\n",
    "    else:\n",
    "        res = test_list[mid]\n",
    "        high = mid - 1"
   ]
  },
  {
   "cell_type": "markdown",
   "id": "724e804a",
   "metadata": {},
   "source": [
    "# Python | Convert list of tuples to list of list"
   ]
  },
  {
   "cell_type": "code",
   "execution_count": null,
   "id": "b7bc9e78",
   "metadata": {},
   "outputs": [],
   "source": []
  }
 ],
 "metadata": {
  "kernelspec": {
   "display_name": "Python 3 (ipykernel)",
   "language": "python",
   "name": "python3"
  },
  "language_info": {
   "codemirror_mode": {
    "name": "ipython",
    "version": 3
   },
   "file_extension": ".py",
   "mimetype": "text/x-python",
   "name": "python",
   "nbconvert_exporter": "python",
   "pygments_lexer": "ipython3",
   "version": "3.9.7"
  }
 },
 "nbformat": 4,
 "nbformat_minor": 5
}
