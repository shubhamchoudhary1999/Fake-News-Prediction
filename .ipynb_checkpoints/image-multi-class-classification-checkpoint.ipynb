{
 "cells": [
  {
   "cell_type": "markdown",
   "metadata": {},
   "source": [
    "# Image Multi Class Classification \n"
   ]
  },
  {
   "cell_type": "markdown",
   "metadata": {},
   "source": [
    "#### Import Library"
   ]
  },
  {
   "cell_type": "code",
   "execution_count": null,
   "metadata": {
    "execution": {
     "iopub.execute_input": "2022-06-14T19:42:35.040654Z",
     "iopub.status.busy": "2022-06-14T19:42:35.039846Z",
     "iopub.status.idle": "2022-06-14T19:42:41.980333Z",
     "shell.execute_reply": "2022-06-14T19:42:41.979355Z",
     "shell.execute_reply.started": "2022-06-14T19:42:35.040553Z"
    }
   },
   "outputs": [],
   "source": [
    "import os\n",
    "import tensorflow as tf\n",
    "from tensorflow.keras.optimizers import RMSprop\n",
    "from tensorflow.keras.preprocessing.image import ImageDataGenerator\n",
    "import matplotlib.image as mpimg\n",
    "import matplotlib.pyplot as plt\n",
    "%matplotlib inline"
   ]
  },
  {
   "cell_type": "markdown",
   "metadata": {},
   "source": [
    "#### Exploratory Data Analysis"
   ]
  },
  {
   "cell_type": "code",
   "execution_count": null,
   "metadata": {
    "execution": {
     "iopub.execute_input": "2022-06-14T19:44:37.122342Z",
     "iopub.status.busy": "2022-06-14T19:44:37.121989Z",
     "iopub.status.idle": "2022-06-14T19:44:37.133465Z",
     "shell.execute_reply": "2022-06-14T19:44:37.132707Z",
     "shell.execute_reply.started": "2022-06-14T19:44:37.122315Z"
    }
   },
   "outputs": [],
   "source": [
    "base_dir = '../input/ecommerce-products-image-dataset/ecommerce products'\n",
    "print(os.listdir(base_dir))"
   ]
  },
  {
   "cell_type": "markdown",
   "metadata": {},
   "source": [
    "> There are 4 type of product (class)"
   ]
  },
  {
   "cell_type": "code",
   "execution_count": null,
   "metadata": {
    "execution": {
     "iopub.execute_input": "2022-06-14T19:44:39.062977Z",
     "iopub.status.busy": "2022-06-14T19:44:39.062602Z",
     "iopub.status.idle": "2022-06-14T19:44:39.383457Z",
     "shell.execute_reply": "2022-06-14T19:44:39.382694Z",
     "shell.execute_reply.started": "2022-06-14T19:44:39.062947Z"
    }
   },
   "outputs": [],
   "source": [
    "jeans_dir = os.path.join(base_dir, 'jeans')\n",
    "sofa_dir = os.path.join(base_dir, 'sofa')\n",
    "tshirt_dir = os.path.join(base_dir, 'tshirt')\n",
    "tv_dir = os.path.join(base_dir, 'tv')\n",
    "\n",
    "jeans_fnames = os.listdir(jeans_dir)\n",
    "sofa_fnames = os.listdir(sofa_dir)\n",
    "tshirt_fnames = os.listdir(tshirt_dir)\n",
    "tv_fnames = os.listdir(tv_dir)\n",
    "print(\"count jeans :\",len(jeans_fnames))\n",
    "print(\"count sofa :\",len(sofa_fnames))\n",
    "print(\"count tshirt :\",len(tshirt_fnames))\n",
    "print(\"count tv :\",len(tv_fnames))"
   ]
  },
  {
   "cell_type": "markdown",
   "metadata": {},
   "source": [
    "> Data already balanced for every class"
   ]
  },
  {
   "cell_type": "code",
   "execution_count": null,
   "metadata": {
    "execution": {
     "iopub.execute_input": "2022-06-14T19:44:41.689173Z",
     "iopub.status.busy": "2022-06-14T19:44:41.688353Z",
     "iopub.status.idle": "2022-06-14T19:44:46.799445Z",
     "shell.execute_reply": "2022-06-14T19:44:46.798568Z",
     "shell.execute_reply.started": "2022-06-14T19:44:41.689136Z"
    }
   },
   "outputs": [],
   "source": [
    "nrows = 4\n",
    "ncols = 8\n",
    "pic_index = 0\n",
    "\n",
    "fig = plt.gcf()\n",
    "fig.set_size_inches(ncols*4, nrows*4)\n",
    "\n",
    "pic_index+=8\n",
    "\n",
    "next_jeans_pix = [os.path.join(jeans_dir, fname) \n",
    "                for fname in jeans_fnames[ pic_index-8:pic_index] \n",
    "               ]\n",
    "\n",
    "next_sofa_pix = [os.path.join(sofa_dir, fname) \n",
    "                for fname in sofa_fnames[ pic_index-8:pic_index]\n",
    "               ]\n",
    "\n",
    "next_tshirt_pix = [os.path.join(tshirt_dir, fname) \n",
    "                for fname in tshirt_fnames[ pic_index-8:pic_index]\n",
    "               ]\n",
    "\n",
    "next_tv_pix = [os.path.join(tv_dir, fname) \n",
    "                for fname in tv_fnames[ pic_index-8:pic_index]\n",
    "               ]\n",
    "\n",
    "\n",
    "for i, img_path in enumerate(next_jeans_pix+next_sofa_pix+next_tshirt_pix+next_tv_pix):\n",
    "  # Set up subplot; subplot indices start at 1\n",
    "  sp = plt.subplot(nrows, ncols, i + 1)\n",
    "  sp.axis('Off') # Don't show axes (or gridlines)\n",
    "\n",
    "  img = mpimg.imread(img_path)\n",
    "  plt.imshow(img)\n",
    "\n",
    "plt.show()"
   ]
  },
  {
   "cell_type": "markdown",
   "metadata": {},
   "source": [
    "> We can see that in tv dataset, there are some noise data, so we must remove that noise"
   ]
  },
  {
   "cell_type": "markdown",
   "metadata": {},
   "source": [
    "#### Data Preprocessing\n",
    "I remove the noise in dataset manually, and this is the result"
   ]
  },
  {
   "cell_type": "code",
   "execution_count": null,
   "metadata": {
    "execution": {
     "iopub.execute_input": "2022-06-14T19:46:37.944213Z",
     "iopub.status.busy": "2022-06-14T19:46:37.943827Z",
     "iopub.status.idle": "2022-06-14T19:46:37.948695Z",
     "shell.execute_reply": "2022-06-14T19:46:37.947796Z",
     "shell.execute_reply.started": "2022-06-14T19:46:37.944185Z"
    }
   },
   "outputs": [],
   "source": [
    "base_dir_cleaned ='../input/ecommerceproductcleaned/ecommerce products_cleaned'"
   ]
  },
  {
   "cell_type": "code",
   "execution_count": null,
   "metadata": {
    "execution": {
     "iopub.execute_input": "2022-06-14T19:46:39.063207Z",
     "iopub.status.busy": "2022-06-14T19:46:39.062837Z",
     "iopub.status.idle": "2022-06-14T19:46:39.094728Z",
     "shell.execute_reply": "2022-06-14T19:46:39.093775Z",
     "shell.execute_reply.started": "2022-06-14T19:46:39.063177Z"
    }
   },
   "outputs": [],
   "source": [
    "tv_dir_cleaned = os.path.join(base_dir_cleaned, 'tv')\n",
    "tv_fnames_cleaned = os.listdir(tv_dir_cleaned)\n",
    "print(\"count tv :\",len(tv_fnames_cleaned))"
   ]
  },
  {
   "cell_type": "markdown",
   "metadata": {},
   "source": [
    "> there is still 146 / 199 (original data)"
   ]
  },
  {
   "cell_type": "markdown",
   "metadata": {},
   "source": [
    "#### Split Data"
   ]
  },
  {
   "cell_type": "code",
   "execution_count": null,
   "metadata": {
    "execution": {
     "iopub.execute_input": "2022-06-14T19:46:42.226834Z",
     "iopub.status.busy": "2022-06-14T19:46:42.226454Z",
     "iopub.status.idle": "2022-06-14T19:46:42.442605Z",
     "shell.execute_reply": "2022-06-14T19:46:42.441683Z",
     "shell.execute_reply.started": "2022-06-14T19:46:42.226799Z"
    }
   },
   "outputs": [],
   "source": [
    "img_height = 150\n",
    "img_width = 150\n",
    "batch_size = 50\n",
    "\n",
    "datagen = ImageDataGenerator(rescale=1./255,\n",
    "    shear_range=0.2,\n",
    "    zoom_range=0.2,\n",
    "    horizontal_flip=True,\n",
    "    validation_split=0.2) # set validation split\n",
    "\n",
    "train_generator = datagen.flow_from_directory(\n",
    "    base_dir_cleaned,\n",
    "    target_size=(img_height, img_width),\n",
    "    batch_size=batch_size,\n",
    "    class_mode='categorical',\n",
    "    subset='training') # set as training data\n",
    "\n",
    "validation_generator = datagen.flow_from_directory(\n",
    "    base_dir_cleaned, # same directory as training data\n",
    "    target_size=(img_height, img_width),\n",
    "    batch_size=batch_size,\n",
    "    class_mode='categorical',\n",
    "    subset='validation')"
   ]
  },
  {
   "cell_type": "markdown",
   "metadata": {},
   "source": [
    "#### Build Model"
   ]
  },
  {
   "cell_type": "code",
   "execution_count": null,
   "metadata": {
    "execution": {
     "iopub.execute_input": "2022-06-14T19:46:43.21857Z",
     "iopub.status.busy": "2022-06-14T19:46:43.217847Z",
     "iopub.status.idle": "2022-06-14T19:46:43.408894Z",
     "shell.execute_reply": "2022-06-14T19:46:43.4079Z",
     "shell.execute_reply.started": "2022-06-14T19:46:43.218533Z"
    }
   },
   "outputs": [],
   "source": [
    "model = tf.keras.models.Sequential([\n",
    "    tf.keras.layers.Conv2D(8, (3,3), activation='relu', input_shape=(150, 150, 3)),\n",
    "    tf.keras.layers.MaxPooling2D(2,2),\n",
    "    tf.keras.layers.Conv2D(16, (3,3), activation='relu'),\n",
    "    tf.keras.layers.MaxPooling2D(2,2), \n",
    "    tf.keras.layers.Conv2D(32, (3,3), activation='relu'),\n",
    "    tf.keras.layers.MaxPooling2D(2,2), \n",
    "    tf.keras.layers.Flatten(), \n",
    "    tf.keras.layers.Dropout(0.5),\n",
    "    tf.keras.layers.Dense(512, activation='relu'), \n",
    "    tf.keras.layers.Dense(4, activation='softmax')  \n",
    "])"
   ]
  },
  {
   "cell_type": "code",
   "execution_count": null,
   "metadata": {
    "execution": {
     "iopub.execute_input": "2022-06-14T19:46:43.420102Z",
     "iopub.status.busy": "2022-06-14T19:46:43.419548Z",
     "iopub.status.idle": "2022-06-14T19:46:43.425859Z",
     "shell.execute_reply": "2022-06-14T19:46:43.424945Z",
     "shell.execute_reply.started": "2022-06-14T19:46:43.420069Z"
    }
   },
   "outputs": [],
   "source": [
    "model.summary()"
   ]
  },
  {
   "cell_type": "code",
   "execution_count": null,
   "metadata": {
    "execution": {
     "iopub.execute_input": "2022-06-14T19:46:43.631744Z",
     "iopub.status.busy": "2022-06-14T19:46:43.631252Z",
     "iopub.status.idle": "2022-06-14T19:46:43.644244Z",
     "shell.execute_reply": "2022-06-14T19:46:43.643525Z",
     "shell.execute_reply.started": "2022-06-14T19:46:43.631713Z"
    }
   },
   "outputs": [],
   "source": [
    "model.compile(optimizer=RMSprop(learning_rate=0.001),\n",
    "              loss='categorical_crossentropy',\n",
    "              metrics = ['accuracy'])"
   ]
  },
  {
   "cell_type": "code",
   "execution_count": null,
   "metadata": {
    "execution": {
     "iopub.execute_input": "2022-06-14T19:46:43.806266Z",
     "iopub.status.busy": "2022-06-14T19:46:43.805751Z"
    }
   },
   "outputs": [],
   "source": [
    "history = model.fit(\n",
    "            train_generator,\n",
    "            epochs=15,\n",
    "            validation_data=validation_generator,\n",
    "            verbose=2\n",
    "            )"
   ]
  },
  {
   "cell_type": "markdown",
   "metadata": {},
   "source": [
    "> We got the final result for model is having training accuracy and val accuracy greater than 96%"
   ]
  },
  {
   "cell_type": "markdown",
   "metadata": {},
   "source": [
    "#### Model Evaluation"
   ]
  },
  {
   "cell_type": "code",
   "execution_count": null,
   "metadata": {},
   "outputs": [],
   "source": [
    "acc      = history.history[     'accuracy' ]\n",
    "val_acc  = history.history[ 'val_accuracy' ]\n",
    "loss     = history.history[    'loss' ]\n",
    "val_loss = history.history['val_loss' ]\n",
    "\n",
    "epochs   = range(len(acc))\n",
    "\n",
    "#------------------------------------------------\n",
    "# Plot training and validation accuracy per epoch\n",
    "#------------------------------------------------\n",
    "plt.plot  ( epochs,     acc )\n",
    "plt.plot  ( epochs, val_acc )\n",
    "plt.title ('Training and validation accuracy')\n",
    "plt.figure()\n",
    "\n",
    "#------------------------------------------------\n",
    "# Plot training and validation loss per epoch\n",
    "#------------------------------------------------\n",
    "plt.plot  ( epochs,     loss )\n",
    "plt.plot  ( epochs, val_loss )\n",
    "plt.title ('Training and validation loss'   )"
   ]
  },
  {
   "cell_type": "markdown",
   "metadata": {},
   "source": [
    "> From the graph , we can see the accuracy and loss of the model already quite balanced"
   ]
  },
  {
   "cell_type": "code",
   "execution_count": null,
   "metadata": {},
   "outputs": [],
   "source": []
  }
 ],
 "metadata": {
  "kernelspec": {
   "display_name": "Python 3 (ipykernel)",
   "language": "python",
   "name": "python3"
  },
  "language_info": {
   "codemirror_mode": {
    "name": "ipython",
    "version": 3
   },
   "file_extension": ".py",
   "mimetype": "text/x-python",
   "name": "python",
   "nbconvert_exporter": "python",
   "pygments_lexer": "ipython3",
   "version": "3.9.7"
  }
 },
 "nbformat": 4,
 "nbformat_minor": 4
}
